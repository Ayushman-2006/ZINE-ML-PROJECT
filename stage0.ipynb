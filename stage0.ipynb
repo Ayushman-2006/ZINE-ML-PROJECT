{
 "cells": [
  {
   "cell_type": "code",
   "execution_count": 1,
   "metadata": {},
   "outputs": [
    {
     "ename": "SyntaxError",
     "evalue": "(unicode error) 'unicodeescape' codec can't decode bytes in position 2-3: truncated \\UXXXXXXXX escape (643589764.py, line 9)",
     "output_type": "error",
     "traceback": [
      "\u001b[1;36m  Cell \u001b[1;32mIn[1], line 9\u001b[1;36m\u001b[0m\n\u001b[1;33m    file_path = \"C:\\Users\\Ayushman\\Downloads\\UNSW_NB15_testing-set.csv\"\u001b[0m\n\u001b[1;37m                ^\u001b[0m\n\u001b[1;31mSyntaxError\u001b[0m\u001b[1;31m:\u001b[0m (unicode error) 'unicodeescape' codec can't decode bytes in position 2-3: truncated \\UXXXXXXXX escape\n"
     ]
    }
   ],
   "source": [
    "import pandas as pd\n",
    "import numpy as np\n",
    "from sklearn.preprocessing import MinMaxScaler\n",
    "\n",
    "# Step 1: Load and Combine All Files\n",
    "# Replace with the correct paths to the downloaded CSV files\n",
    "file_paths = [\n",
    "    \"UNSW-NB15_1.csv\", \"UNSW-NB15_2.csv\", \"UNSW-NB15_3.csv\", \n",
    "    \"UNSW-NB15_4.csv\", \"UNSW-NB15_training-set.csv\", \"UNSW-NB15_testing-set.csv\", \n",
    "    \"UNSW-NB15_features.csv\", \"UNSW-NB15_LIST_EVENTS.csv\"\n",
    "]\n",
    "\n",
    "# Read and concatenate all files\n",
    "dataframes = [pd.read_csv(file_path) for file_path in file_paths]\n",
    "df = pd.concat(dataframes, ignore_index=True)\n",
    "\n",
    "# Step 2: Explore the Dataset\n",
    "print(\"Combined Dataset Overview:\")\n",
    "print(df.head())\n",
    "print(\"\\nDataset Info:\")\n",
    "print(df.info())\n",
    "print(\"\\nMissing Values:\")\n",
    "print(df.isnull().sum())\n",
    "\n",
    "# Step 3: Handle Missing Values\n",
    "for col in df.columns:\n",
    "    if df[col].dtype == \"object\":  # Categorical column\n",
    "        df[col].fillna(df[col].mode()[0], inplace=True)\n",
    "    else:  # Numerical column\n",
    "        df[col].fillna(df[col].mean(), inplace=True)\n",
    "\n",
    "# Step 4: Encode Categorical Variables\n",
    "categorical_cols = df.select_dtypes(include=[\"object\"]).columns\n",
    "df = pd.get_dummies(df, columns=categorical_cols, drop_first=True)\n",
    "\n",
    "# Step 5: Normalize Numerical Features\n",
    "numerical_cols = df.select_dtypes(include=[\"int64\", \"float64\"]).columns\n",
    "scaler = MinMaxScaler()\n",
    "df[numerical_cols] = scaler.fit_transform(df[numerical_cols])\n",
    "\n",
    "# Step 6: Save the Combined and Preprocessed Dataset\n",
    "output_file = \"processed_UNSW_NB15.csv\"\n",
    "df.to_csv(output_file, index=False)\n",
    "print(f\"\\nPreprocessed dataset saved to {output_file}\")\n"
   ]
  }
 ],
 "metadata": {
  "kernelspec": {
   "display_name": "Python 3",
   "language": "python",
   "name": "python3"
  },
  "language_info": {
   "codemirror_mode": {
    "name": "ipython",
    "version": 3
   },
   "file_extension": ".py",
   "mimetype": "text/x-python",
   "name": "python",
   "nbconvert_exporter": "python",
   "pygments_lexer": "ipython3",
   "version": "3.12.4"
  }
 },
 "nbformat": 4,
 "nbformat_minor": 2
}
